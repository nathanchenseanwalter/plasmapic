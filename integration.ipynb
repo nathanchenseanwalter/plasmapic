{
 "cells": [
  {
   "cell_type": "code",
   "execution_count": null,
   "metadata": {},
   "outputs": [],
   "source": [
    "import numpy as np\n",
    "import matplotlib.pyplot as plt"
   ]
  },
  {
   "cell_type": "code",
   "execution_count": null,
   "metadata": {},
   "outputs": [],
   "source": [
    "dt = 1e-2;\n",
    "mass = m = 1.;\n",
    "charge = q = 1.;\n",
    "vAc = 3e-4;\n",
    "\n",
    "duration = 1000;\n",
    "\n",
    "v = np.array([0., 1., 0.]);\n",
    "x = np.array([-1., 0., 0.]);\n",
    "\n",
    "B = np.array([0., 0., 1.]);\n",
    "E = np.array([0., 0., 0.]);\n",
    "\n",
    "X = np.zeros((duration,3)) \n",
    "V = np.zeros((duration,3)) "
   ]
  },
  {
   "cell_type": "markdown",
   "metadata": {},
   "source": [
    "### Runga Kutta 4th Order"
   ]
  },
  {
   "cell_type": "code",
   "execution_count": null,
   "metadata": {},
   "outputs": [],
   "source": [
    "def rk4(x, v, a, dt):\n",
    "    \"\"\"\n",
    "    Implements the fourth-order Runge-Kutta (RK4) method for particle pushing.\n",
    "\n",
    "    Args:\n",
    "        x (numpy.ndarray): Initial position of the particle (3D vector).\n",
    "        v (numpy.ndarray): Initial velocity of the particle (3D vector).\n",
    "        a (callable): Acceleration function that takes position and velocity as arguments.\n",
    "        dt (float): Time step.\n",
    "\n",
    "    Returns:\n",
    "        tuple: Updated position and velocity of the particle after the push.\n",
    "    \"\"\"\n",
    "    # Define the RK4 coefficients\n",
    "    k1_v = a(x, v)\n",
    "    k1_x = v\n",
    "\n",
    "    k2_v = a(x + 0.5 * dt * k1_x, v + 0.5 * dt * k1_v)\n",
    "    k2_x = v + 0.5 * dt * k1_v\n",
    "\n",
    "    k3_v = a(x + 0.5 * dt * k2_x, v + 0.5 * dt * k2_v)\n",
    "    k3_x = v + 0.5 * dt * k2_v\n",
    "\n",
    "    k4_v = a(x + dt * k3_x, v + dt * k3_v)\n",
    "    k4_x = v + dt * k3_v\n",
    "\n",
    "    # Update position and velocity using RK4\n",
    "    x_new = x + (dt / 6) * (k1_x + 2 * k2_x + 2 * k3_x + k4_x)\n",
    "    v_new = v + (dt / 6) * (k1_v + 2 * k2_v + 2 * k3_v + k4_v)\n",
    "\n",
    "    return x_new, v_new"
   ]
  },
  {
   "cell_type": "markdown",
   "metadata": {},
   "source": [
    "### Leapfrog\n",
    "https://www.particleincell.com/2011/velocity-integration/"
   ]
  },
  {
   "cell_type": "code",
   "execution_count": null,
   "metadata": {},
   "outputs": [],
   "source": [
    "def EvalE(x):\n",
    "    pass"
   ]
  },
  {
   "cell_type": "code",
   "execution_count": null,
   "metadata": {},
   "outputs": [],
   "source": [
    "for time in range(duration):\n",
    "    # move velocity back by 0.5dt\n",
    "    E = EvalE(x);\n",
    "    v = v - 0.5*charge/mass*E*dt;\n",
    "\n",
    "    # main loop\n",
    "    E = EvalE(x);\n",
    "    v = v + charge/mass*E*dt;\n",
    "    x = x + v*dt;"
   ]
  },
  {
   "cell_type": "markdown",
   "metadata": {},
   "source": [
    "### Tajima Implicit\n",
    "https://www.particleincell.com/2011/vxb-rotation/"
   ]
  },
  {
   "cell_type": "code",
   "execution_count": null,
   "metadata": {},
   "outputs": [],
   "source": [
    "for time in range(duration):\n",
    "    v_minus_half = v - 0.5*q/m*E*dt;\n",
    "    B_mag = np.linalg.norm(B)\n",
    "    eps = q*B_mag/m*dt/2 # = omega*dt/2\n",
    "    R = 1/B_mag * [[0, B[2], -B[1]], [-B[2], 0, B[0]], [B[1], -B[0], 0]]\n",
    "    M = np.eye(3) - R * eps\n",
    "    M_inv = np.linalg.inv(M) # matrix inversion\n",
    "    v = M_inv @ M @ v_minus_half + M_inv @ E * q/m * dt\n",
    "    x = x + v*dt"
   ]
  },
  {
   "cell_type": "markdown",
   "metadata": {},
   "source": [
    "### Tajima Explicit\n",
    "https://www.particleincell.com/2011/vxb-rotation/"
   ]
  },
  {
   "cell_type": "code",
   "execution_count": null,
   "metadata": {},
   "outputs": [],
   "source": [
    "for time in range(duration):\n",
    "    v_minus_half = v - 0.5*q/m*E*dt;\n",
    "    B_mag = np.linalg.norm(B)\n",
    "    eps = q*B_mag/m*dt/2 # = omega*dt/2\n",
    "    R = 1/B_mag * [[0, B[2], -B[1]], [-B[2], 0, B[0]], [B[1], -B[0], 0]]\n",
    "    M = np.eye(3) - R * eps\n",
    "    v = q/m*E*dt/2 + M @ (v_minus_half + E * q/m * dt / 2)\n",
    "    x = x + v*dt"
   ]
  },
  {
   "cell_type": "markdown",
   "metadata": {},
   "source": [
    "### Boris\n",
    "https://www.particleincell.com/2011/vxb-rotation/"
   ]
  },
  {
   "cell_type": "code",
   "execution_count": null,
   "metadata": {},
   "outputs": [],
   "source": [
    "for time in range(duration):\n",
    "    t = charge / mass * B * 0.5 * dt;\n",
    "    s = 2. * t / (1. + t*t);\n",
    "    v_minus = v + charge / (mass * vAc) * E * 0.5 * dt;\n",
    "    v_prime = v_minus + np.cross(v_minus,t);\n",
    "    v_plus = v_minus + np.cross(v_prime,s);\n",
    "    v = v_plus + charge / (mass * vAc) * E * 0.5 * dt;\n",
    "    x += v * dt;\n",
    "    X[time,:] = x;\n",
    "    V[time,:] = v; "
   ]
  },
  {
   "cell_type": "code",
   "execution_count": null,
   "metadata": {},
   "outputs": [],
   "source": [
    "plt.figure(figsize=(5,5))\n",
    "\n",
    "plt.plot(X[:,0],X[:,1],'k',linewidth=2.0); \n",
    "plt.xlabel(r'$x/d_{\\rm p}$',fontsize=16)\n",
    "plt.ylabel(r'$y/d_{\\rm p}$',fontsize=16)\n",
    "\n",
    "plt.show()"
   ]
  }
 ],
 "metadata": {
  "kernelspec": {
   "display_name": "cos429",
   "language": "python",
   "name": "python3"
  },
  "language_info": {
   "codemirror_mode": {
    "name": "ipython",
    "version": 3
   },
   "file_extension": ".py",
   "mimetype": "text/x-python",
   "name": "python",
   "nbconvert_exporter": "python",
   "pygments_lexer": "ipython3",
   "version": "3.8.18"
  }
 },
 "nbformat": 4,
 "nbformat_minor": 2
}
